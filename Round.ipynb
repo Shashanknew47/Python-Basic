{
 "cells": [
  {
   "cell_type": "code",
   "execution_count": 18,
   "metadata": {},
   "outputs": [
    {
     "name": "stdout",
     "output_type": "stream",
     "text": [
      "10.0 \n",
      "************\n",
      "10.0 \n",
      "************\n",
      "20.0\n"
     ]
    }
   ],
   "source": [
    "#round(x,n=0)\n",
    "# Here n could be negative too\n",
    "\n",
    "x = 10.23\n",
    "print(round(x,0),'\\n************')  \n",
    "\n",
    "# Example of negative rounding\n",
    "\n",
    "print(round(x,-1),'\\n************')     \n",
    "\n",
    "y = 20.26\n",
    "print(round(y,-1))     \n",
    "\n",
    "\n"
   ]
  },
  {
   "cell_type": "code",
   "execution_count": 21,
   "metadata": {},
   "outputs": [
    {
     "data": {
      "text/plain": [
       "100"
      ]
     },
     "execution_count": 21,
     "metadata": {},
     "output_type": "execute_result"
    }
   ],
   "source": [
    "# you will get return value type whatever is the type of x.\n",
    "x = 57\n",
    "round(x,-2)"
   ]
  },
  {
   "cell_type": "code",
   "execution_count": 28,
   "metadata": {},
   "outputs": [
    {
     "name": "stdout",
     "output_type": "stream",
     "text": [
      "1.2\n",
      "1.3\n"
     ]
    }
   ],
   "source": [
    "#So, round off will take it to the near by decimal.if it is more than. .5 than it will take away the value from 0 or if\n",
    "#it is less than .5 then it will be nearer to the 0.\n",
    "\n",
    "x = 1.23\n",
    "print(round(x,1))\n",
    "\n",
    "\n",
    "y = 1.26\n",
    "print(round(y,1))"
   ]
  },
  {
   "cell_type": "markdown",
   "metadata": {},
   "source": [
    "Now confusion is what will happen if the value is : .5 \n",
    "It will give shift towards the even number.\n",
    "\n",
    "This generally  shift towards even number instead of fixing one thing that goind away or near 0.\n",
    "So, that whenever we do lot of calculation it provides an average shifting and balance negative and positive shifting.\n"
   ]
  },
  {
   "cell_type": "code",
   "execution_count": 30,
   "metadata": {},
   "outputs": [
    {
     "name": "stdout",
     "output_type": "stream",
     "text": [
      "1.2\n",
      "1.4\n"
     ]
    }
   ],
   "source": [
    "#Now confusion is what will happen if the value is .5. \n",
    "# It will give shift towards the even number. \n",
    "\n",
    "# Ex:Like here 1.25 have 2 possiblities of roundoff :\n",
    "# 1 is 1.2 another one is 1.3. As 1.2 is even So, answer is 1.2\n",
    "\n",
    "x = 1.25\n",
    "print(round(x,1))\n",
    "\n",
    "\n",
    "# Ex:Like here 1.35 have 2 possiblities of roundoff :\n",
    "# 1 is 1.2 another one is 1.3 As 1.4 is even So, answer is 1.4\n",
    "\n",
    "y = 1.35\n",
    "print(round(y,1))\n",
    "\n"
   ]
  },
  {
   "cell_type": "code",
   "execution_count": 26,
   "metadata": {},
   "outputs": [
    {
     "data": {
      "image/png": "[encoded data removed]",
      "text/plain": [
       "<Figure size 432x288 with 1 Axes>"
      ]
     },
     "metadata": {
      "needs_background": "light"
     },
     "output_type": "display_data"
    }
   ],
   "source": [
    "import matplotlib.pyplot as plt\n",
    "%matplotlib inline\n",
    "\n",
    "\n",
    "x = [1, 2, 3, 4 ,5]\n",
    "y = [1, 4, 9, 6, 10]\n",
    "\n",
    "fig, ax = plt.subplots()\n",
    "\n",
    "# instanciate a figure and ax object\n",
    "# annotate is a method that belongs to axes\n",
    "ax.plot(x, y, 'ro',markersize=23)\n",
    "\n",
    "## controls the extent of the plot.\n",
    "offset = 1.0 \n",
    "ax.set_xlim(min(x)-offset, max(x)+ offset)\n",
    "ax.set_ylim(min(y)-offset, max(y)+ offset)\n",
    "\n",
    "# loop through each x,y pair\n",
    "for i,j in zip(x,y):\n",
    "    corr = -0.05 # adds a little correction to put annotation in marker's centrum\n",
    "    ax.annotate(str(j),  xy=(i + corr, j + corr))\n",
    "\n",
    "plt.show()\n"
   ]
  },
  {
   "cell_type": "code",
   "execution_count": 27,
   "metadata": {},
   "outputs": [
    {
     "data": {
      "image/png": "[encoded data removed]",
      "text/plain": [
       "<Figure size 432x288 with 1 Axes>"
      ]
     },
     "metadata": {
      "needs_background": "light"
     },
     "output_type": "display_data"
    }
   ],
   "source": [
    "import numpy as np\n",
    "\n",
    "plt.clf()\n",
    "\n",
    "# using some dummy data for this example\n",
    "xs = np.arange(0,10,1)\n",
    "ys = np.random.normal(loc=3, scale=0.4, size=10)\n",
    "\n",
    "# 'bo-' means blue color, round points, solid lines\n",
    "plt.plot(xs,ys,'bo-')\n",
    "\n",
    "# zip joins x and y coordinates in pairs\n",
    "for x,y in zip(xs,ys):\n",
    "\n",
    "    label = \"{:.2f}\".format(y)\n",
    "\n",
    "    plt.annotate(label, # this is the text\n",
    "                 (x,y), # this is the point to label\n",
    "                 textcoords=\"offset points\", # how to position the text\n",
    "                 xytext=(0,10), # distance from text to points (x,y)\n",
    "                 ha='center') # horizontal alignment can be left, right or center\n",
    "\n",
    "plt.xticks(np.arange(0,10,1))\n",
    "plt.yticks(np.arange(0,7,0.5))\n",
    "\n",
    "plt.show()"
   ]
  }
 ],
 "metadata": {
  "kernelspec": {
   "display_name": "Python 3",
   "language": "python",
   "name": "python3"
  },
  "language_info": {
   "codemirror_mode": {
    "name": "ipython",
    "version": 3
   },
   "file_extension": ".py",
   "mimetype": "text/x-python",
   "name": "python",
   "nbconvert_exporter": "python",
   "pygments_lexer": "ipython3",
   "version": "3.7.1"
  }
 },
 "nbformat": 4,
 "nbformat_minor": 2
}
