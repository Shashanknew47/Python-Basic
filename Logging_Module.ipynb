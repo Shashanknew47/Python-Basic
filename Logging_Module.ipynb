{
 "cells": [
  {
   "cell_type": "code",
   "execution_count": 5,
   "metadata": {},
   "outputs": [
    {
     "name": "stdout",
     "output_type": "stream",
     "text": [
      "C:\\Users\\Shashank\\Desktop\\Log_folder\n",
      "30\n"
     ]
    }
   ],
   "source": [
    "import logging\n",
    "import os\n",
    "os.chdir('C:/Users/Shashank/Desktop/Log_folder')\n",
    "print(os.getcwd())\n",
    "\n",
    "\n",
    "Log_format = \"%(levelname)s %(asctime)s-%(message)s\"\n",
    "logging.basicConfig(filename='My.log',level=10,format=Log_format)\n",
    "logger = logging.getLogger()\n",
    "\n",
    "#(NOTSET=0,DEBUG=10,INFO=20,WARNING=30,ERROR=40,CRITICAL=50)\n",
    "#Note:Logger will only write message to grater or equal to the set level.By default leval is Warning.\n",
    "\n",
    "\n",
    "logger.error(\"message of erroer\")\n",
    "logger.critical(\"Message fo critical\")\n",
    "print(logger.level)\n",
    "\n",
    "#Now if you will see message was only typed for error and critical because they were higher than default warning level.\n",
    "\n",
    "\n"
   ]
  },
  {
   "cell_type": "code",
   "execution_count": 9,
   "metadata": {},
   "outputs": [
    {
     "name": "stdout",
     "output_type": "stream",
     "text": [
      "C:\\Users\\Shashank\\Desktop\\Log_folder\n",
      "30\n"
     ]
    }
   ],
   "source": [
    "#if we want to type message for info also then we will have to set defaule below or equal to info. Ex.\n",
    "\n",
    "import logging\n",
    "import os\n",
    "os.chdir('C:/Users/Shashank/Desktop/Log_folder')\n",
    "print(os.getcwd())\n",
    "\n",
    "\n",
    "logging.basicConfig(filename='Newmy.log',level=logging.DEBUG)\n",
    "logger = logging.getLogger()\n",
    "\n",
    "\n",
    "\n",
    "logger.error(\"message of erroer\")\n",
    "logger.critical(\"Message fo critical\")\n",
    "logger.info(\"Message for info\")\n",
    "print(logger.level)\n",
    "\n",
    "\n",
    "\n"
   ]
  },
  {
   "cell_type": "code",
   "execution_count": null,
   "metadata": {},
   "outputs": [],
   "source": []
  }
 ],
 "metadata": {
  "kernelspec": {
   "display_name": "Python 3",
   "language": "python",
   "name": "python3"
  },
  "language_info": {
   "codemirror_mode": {
    "name": "ipython",
    "version": 3
   },
   "file_extension": ".py",
   "mimetype": "text/x-python",
   "name": "python",
   "nbconvert_exporter": "python",
   "pygments_lexer": "ipython3",
   "version": "3.7.1"
  }
 },
 "nbformat": 4,
 "nbformat_minor": 2
}
