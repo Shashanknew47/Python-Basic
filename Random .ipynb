{
 "cells": [
  {
   "cell_type": "code",
   "execution_count": 1,
   "metadata": {},
   "outputs": [
    {
     "output_type": "execute_result",
     "data": {
      "text/plain": [
       "0.6252071668919921"
      ]
     },
     "metadata": {},
     "execution_count": 1
    }
   ],
   "source": [
    "#Helps creating random data and games \n",
    "import random\n",
    "\n",
    "\"Getting a value between 0 and 1. Here 0 will be inclusive and 1 will not\"\n",
    "value = random.random()\n",
    "value\n"
   ]
  },
  {
   "cell_type": "code",
   "execution_count": 2,
   "metadata": {},
   "outputs": [
    {
     "output_type": "execute_result",
     "data": {
      "text/plain": [
       "2.5138244271605394"
      ]
     },
     "metadata": {},
     "execution_count": 2
    }
   ],
   "source": [
    "\"If you want to get a value between a cusomise range then \"\n",
    "import random\n",
    "\"getting  a value between 0 and 10\"\n",
    "value = random.uniform(1,10)\n",
    "value"
   ]
  },
  {
   "cell_type": "code",
   "execution_count": 16,
   "metadata": {},
   "outputs": [
    {
     "data": {
      "text/plain": [
       "8"
      ]
     },
     "execution_count": 16,
     "metadata": {},
     "output_type": "execute_result"
    }
   ],
   "source": [
    "\"for getting value a between range and both end will be inclusive.\"\n",
    "import random\n",
    "value = random.randint(1,10)\n",
    "value"
   ]
  },
  {
   "cell_type": "code",
   "execution_count": 3,
   "metadata": {},
   "outputs": [
    {
     "output_type": "stream",
     "name": "stdout",
     "text": [
      "Monday\n***********\n['Wednesday', 'Thrusday', 'Sunday', 'Wednesday', 'Monday']\n***********\n['Tuesday', 'Monday', 'Monday', 'Tuesday', 'Tuesday', 'Tuesday', 'Monday', 'Monday', 'Monday', 'Friday', 'Monday', 'Friday', 'Monday', 'Tuesday']\n"
     ]
    }
   ],
   "source": [
    "\"choice: for getting a value form  a given list.\"\n",
    "import random\n",
    "Li = ['Sunday','Monday','Tuesday','Wednesday','Thrusday','Friday']\n",
    "value = random.choice(Li)\n",
    "\n",
    "print(value)\n",
    "print('***********')\n",
    "#choices: For creatig a list from given values\n",
    "value = random.choices(Li,k=5)\n",
    "print(value)\n",
    "print('***********')\n",
    "\n",
    "#if you want to prirtise some values in list then add weights key in choices \n",
    "value = random.choices(Li,weights=[1,16,7,5,3,7],k=14)\n",
    "print(value)"
   ]
  },
  {
   "cell_type": "code",
   "execution_count": 39,
   "metadata": {},
   "outputs": [
    {
     "data": {
      "text/plain": [
       "[23, 7, 1, 19, 14]"
      ]
     },
     "execution_count": 39,
     "metadata": {},
     "output_type": "execute_result"
    }
   ],
   "source": [
    "#sample: if you want to get some unique values:\n",
    "Li = range(1,52)\n",
    "value = random.sample(Li,k=5)\n",
    "value"
   ]
  }
 ],
 "metadata": {
  "kernelspec": {
   "display_name": "Python 3",
   "language": "python",
   "name": "python3"
  },
  "language_info": {
   "codemirror_mode": {
    "name": "ipython",
    "version": 3
   },
   "file_extension": ".py",
   "mimetype": "text/x-python",
   "name": "python",
   "nbconvert_exporter": "python",
   "pygments_lexer": "ipython3",
   "version": "3.8.5-final"
  }
 },
 "nbformat": 4,
 "nbformat_minor": 2
}