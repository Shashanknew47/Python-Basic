{
 "cells": [
  {
   "cell_type": "code",
   "execution_count": 2,
   "metadata": {},
   "outputs": [
    {
     "name": "stdout",
     "output_type": "stream",
     "text": [
      "0\n",
      "1\n",
      "2\n",
      "3\n"
     ]
    }
   ],
   "source": [
    "import itertools\n",
    "\n",
    "counter = itertools.count()\n",
    "\n",
    "\n",
    "#It will go on like sequencial manner.\n",
    "\n",
    "print(next(counter))\n",
    "print(next(counter))\n",
    "print(next(counter))\n",
    "print(next(counter))"
   ]
  },
  {
   "cell_type": "markdown",
   "metadata": {},
   "source": [
    "#### Count could be used to do indexing of any list of data."
   ]
  },
  {
   "cell_type": "code",
   "execution_count": 3,
   "metadata": {},
   "outputs": [
    {
     "data": {
      "text/plain": [
       "[(0, 100), (1, 200), (2, 300), (3, 400)]"
      ]
     },
     "execution_count": 3,
     "metadata": {},
     "output_type": "execute_result"
    }
   ],
   "source": [
    "data = [100,200,300,400]\n",
    "\n",
    "daily_data = list(zip(itertools.count(),data))\n",
    "\n",
    "daily_data\n"
   ]
  },
  {
   "cell_type": "markdown",
   "metadata": {},
   "source": [
    "### Start & step:\n",
    "To start counting from 2 use start in count.and make index even use step "
   ]
  },
  {
   "cell_type": "code",
   "execution_count": 4,
   "metadata": {},
   "outputs": [
    {
     "data": {
      "text/plain": [
       "[(2, 100), (4, 200), (6, 300), (8, 400)]"
      ]
     },
     "execution_count": 4,
     "metadata": {},
     "output_type": "execute_result"
    }
   ],
   "source": [
    "counter = itertools.count(start=2,step=2)\n",
    "\n",
    "data = [100,200,300,400]\n",
    "\n",
    "daily_data = list(zip(counter,data))\n",
    "\n",
    "daily_data\n"
   ]
  },
  {
   "cell_type": "code",
   "execution_count": 5,
   "metadata": {},
   "outputs": [
    {
     "data": {
      "text/plain": [
       "[(1, 100), (0, 200), (-1, 300), (-2, 400)]"
      ]
     },
     "execution_count": 5,
     "metadata": {},
     "output_type": "execute_result"
    }
   ],
   "source": [
    "#To count backwords\n",
    "\n",
    "counter = itertools.count(start=1,step=-1)\n",
    "\n",
    "data = [100,200,300,400]\n",
    "\n",
    "daily_data = list(zip(counter,data))\n",
    "\n",
    "daily_data"
   ]
  },
  {
   "cell_type": "code",
   "execution_count": 6,
   "metadata": {},
   "outputs": [
    {
     "data": {
      "text/plain": [
       "[(1, 100), (2, 200), (3, 300), (4, 400)]"
      ]
     },
     "execution_count": 6,
     "metadata": {},
     "output_type": "execute_result"
    }
   ],
   "source": [
    "#Indexing with shortest iterable.\n",
    "data = [100,200,300,400]\n",
    "\n",
    "daily_data = list(zip(range(1,20),data))\n",
    "\n",
    "daily_data"
   ]
  },
  {
   "cell_type": "code",
   "execution_count": 7,
   "metadata": {},
   "outputs": [
    {
     "data": {
      "text/plain": [
       "[(1, 100), (2, 200), (3, 300), (4, 400), (5, None), (6, None), (7, None)]"
      ]
     },
     "execution_count": 7,
     "metadata": {},
     "output_type": "execute_result"
    }
   ],
   "source": [
    "#Indexing with largest iterable with itertool.zip_longest func.\n",
    "\n",
    "data = [100,200,300,400]\n",
    "\n",
    "daily_data = list(itertools.zip_longest(range(1,8),data))\n",
    "\n",
    "daily_data"
   ]
  },
  {
   "cell_type": "code",
   "execution_count": 1,
   "metadata": {},
   "outputs": [
    {
     "name": "stdout",
     "output_type": "stream",
     "text": [
      "on\n",
      "off\n",
      "o\n",
      "on\n",
      "off\n",
      "o\n",
      "on\n"
     ]
    }
   ],
   "source": [
    "#cycle (To give repetative sequencing)\n",
    "\n",
    "import itertools\n",
    "\n",
    "counter = itertools.cycle(('on','off','o'))\n",
    "\n",
    "print(next(counter))\n",
    "print(next(counter))\n",
    "print(next(counter))\n",
    "print(next(counter))\n",
    "print(next(counter))\n",
    "print(next(counter))\n",
    "print(next(counter))"
   ]
  },
  {
   "cell_type": "code",
   "execution_count": 9,
   "metadata": {},
   "outputs": [
    {
     "name": "stdout",
     "output_type": "stream",
     "text": [
      "2\n",
      "2\n",
      "2\n",
      "2\n",
      "2\n",
      "2\n",
      "2\n",
      "**********************\n",
      "2\n",
      "2\n",
      "2\n"
     ]
    },
    {
     "ename": "StopIteration",
     "evalue": "",
     "output_type": "error",
     "traceback": [
      "\u001b[1;31m---------------------------------------------------------------------------\u001b[0m",
      "\u001b[1;31mStopIteration\u001b[0m                             Traceback (most recent call last)",
      "\u001b[1;32m<ipython-input-9-3f5a82772882>\u001b[0m in \u001b[0;36m<module>\u001b[1;34m\u001b[0m\n\u001b[0;32m     22\u001b[0m \u001b[0mprint\u001b[0m\u001b[1;33m(\u001b[0m\u001b[0mnext\u001b[0m\u001b[1;33m(\u001b[0m\u001b[0mcounter\u001b[0m\u001b[1;33m)\u001b[0m\u001b[1;33m)\u001b[0m\u001b[1;33m\u001b[0m\u001b[1;33m\u001b[0m\u001b[0m\n\u001b[0;32m     23\u001b[0m \u001b[0mprint\u001b[0m\u001b[1;33m(\u001b[0m\u001b[0mnext\u001b[0m\u001b[1;33m(\u001b[0m\u001b[0mcounter\u001b[0m\u001b[1;33m)\u001b[0m\u001b[1;33m)\u001b[0m\u001b[1;33m\u001b[0m\u001b[1;33m\u001b[0m\u001b[0m\n\u001b[1;32m---> 24\u001b[1;33m \u001b[0mprint\u001b[0m\u001b[1;33m(\u001b[0m\u001b[0mnext\u001b[0m\u001b[1;33m(\u001b[0m\u001b[0mcounter\u001b[0m\u001b[1;33m)\u001b[0m\u001b[1;33m)\u001b[0m\u001b[1;33m\u001b[0m\u001b[1;33m\u001b[0m\u001b[0m\n\u001b[0m\u001b[0;32m     25\u001b[0m \u001b[0mprint\u001b[0m\u001b[1;33m(\u001b[0m\u001b[0mnext\u001b[0m\u001b[1;33m(\u001b[0m\u001b[0mcounter\u001b[0m\u001b[1;33m)\u001b[0m\u001b[1;33m)\u001b[0m\u001b[1;33m\u001b[0m\u001b[1;33m\u001b[0m\u001b[0m\n\u001b[0;32m     26\u001b[0m \u001b[0mprint\u001b[0m\u001b[1;33m(\u001b[0m\u001b[0mnext\u001b[0m\u001b[1;33m(\u001b[0m\u001b[0mcounter\u001b[0m\u001b[1;33m)\u001b[0m\u001b[1;33m)\u001b[0m\u001b[1;33m\u001b[0m\u001b[1;33m\u001b[0m\u001b[0m\n",
      "\u001b[1;31mStopIteration\u001b[0m: "
     ]
    }
   ],
   "source": [
    "#repeat (To repeat a value)\n",
    "\n",
    "import itertools\n",
    "\n",
    "counter = itertools.repeat(2)\n",
    "\n",
    "print(next(counter))\n",
    "print(next(counter))\n",
    "print(next(counter))\n",
    "print(next(counter))\n",
    "print(next(counter))\n",
    "print(next(counter))\n",
    "print(next(counter))\n",
    "\n",
    "print('**********************')\n",
    "\n",
    "# times :  To repeat a value to a limit and then raise stopiter error.\n",
    "\n",
    "counter = itertools.repeat(2, times=3)\n",
    "\n",
    "print(next(counter))\n",
    "print(next(counter))\n",
    "print(next(counter))\n",
    "print(next(counter))\n",
    "print(next(counter))\n",
    "print(next(counter))\n",
    "print(next(counter))\n"
   ]
  },
  {
   "cell_type": "code",
   "execution_count": 2,
   "metadata": {
    "scrolled": false
   },
   "outputs": [
    {
     "data": {
      "text/plain": [
       "[1, 4, 9, 16]"
      ]
     },
     "execution_count": 2,
     "metadata": {},
     "output_type": "execute_result"
    }
   ],
   "source": [
    "#map with itertools (It changes bit functionality of map)\n",
    "\n",
    "squares = map(pow,range(1,5),itertools.repeat(2))\n",
    "list(squares)"
   ]
  },
  {
   "cell_type": "code",
   "execution_count": 3,
   "metadata": {},
   "outputs": [
    {
     "data": {
      "text/plain": [
       "[1, 4, 9, 16]"
      ]
     },
     "execution_count": 3,
     "metadata": {},
     "output_type": "execute_result"
    }
   ],
   "source": [
    "# starmap of itertools (It takes list of tuples)\n",
    "\n",
    "squares = itertools.starmap(pow,[(1,2),(2,2),(3,2),(4,2)])\n",
    "list(squares)"
   ]
  },
  {
   "cell_type": "markdown",
   "metadata": {},
   "source": [
    "#### Permutations, Combinations, Product, combination_with_replacement   in itertools"
   ]
  },
  {
   "cell_type": "code",
   "execution_count": 57,
   "metadata": {},
   "outputs": [
    {
     "name": "stdout",
     "output_type": "stream",
     "text": [
      "combination:[('a', 'b'), ('a', 'c'), ('a', 'd'), ('b', 'c'), ('b', 'd'), ('c', 'd')]\n",
      "combination:6\n",
      "**************************************\n",
      "permutation: [('a', 'b'), ('a', 'c'), ('a', 'd'), ('b', 'a'), ('b', 'c'), ('b', 'd'), ('c', 'a'), ('c', 'b'), ('c', 'd'), ('d', 'a'), ('d', 'b'), ('d', 'c')]\n",
      "**************************************\n",
      "product: [('a', 'a'), ('a', 'b'), ('a', 'c'), ('a', 'd'), ('b', 'a'), ('b', 'b'), ('b', 'c'), ('b', 'd'), ('c', 'a'), ('c', 'b'), ('c', 'c'), ('c', 'd'), ('d', 'a'), ('d', 'b'), ('d', 'c'), ('d', 'd')]\n",
      "len of product: 16\n",
      "**************************************\n",
      "Combination with replacement: [('a', 'a'), ('a', 'b'), ('a', 'c'), ('a', 'd'), ('b', 'b'), ('b', 'c'), ('b', 'd'), ('c', 'c'), ('c', 'd'), ('d', 'd')]\n",
      "len of combination with replacement: 10\n"
     ]
    }
   ],
   "source": [
    "letters = ['a','b','c','d']\n",
    "\n",
    "#combinations : order doés not matter\n",
    "result_combination = itertools.combinations(letters,2)\n",
    "print(f'combination:{list(result_combination)}')\n",
    "\n",
    "#Note: To get the len you need to write again the whole itertools function as it does not hold result in memory.\n",
    "Lresult_combination = itertools.combinations(letters,2)\n",
    "print(f'combination:{len(list(Lresult_combination))}')\n",
    "\n",
    "\n",
    "print('**************************************')\n",
    "\n",
    "#permutations  : order does matter but don's repeat same values like ('a','a')\n",
    "result_permutation = itertools.permutations(letters,2)\n",
    "print('permutation:',list(result_permutation))\n",
    "\n",
    "print('**************************************')\n",
    "\n",
    "#Product (Permutatin with repeted value)\n",
    "\n",
    "result_product = itertools.product(letters,repeat=2)    #Note: Use repeat here\n",
    "print('product:',list(result_product))\n",
    "\n",
    "Lresult_product = itertools.product(letters,repeat=2)\n",
    "print('len of product:',len(list(Lresult_product)))\n",
    "d\n",
    "print('**************************************')\n",
    "\n",
    "\n",
    "#combitnation with repeated value \n",
    "\n",
    "result = itertools.combinations_with_replacement(letters,2)\n",
    "print('Combination with replacement:',list(result))\n",
    "\n",
    "Lresult = itertools.combinations_with_replacement(letters,2)\n",
    "print('len of combination with replacement:',len(list(Lresult)))"
   ]
  },
  {
   "cell_type": "markdown",
   "metadata": {},
   "source": [
    "### Chain\n",
    "\n",
    "#### To iterate multiple lists simultaneously\n",
    "\n",
    "##### it will extremely efficient as it does hold result into memory. and it will be much faster then combining into a single if your data is large"
   ]
  },
  {
   "cell_type": "code",
   "execution_count": 58,
   "metadata": {},
   "outputs": [
    {
     "name": "stdout",
     "output_type": "stream",
     "text": [
      "a\n",
      "b\n",
      "c\n",
      "d\n",
      "0\n",
      "1\n",
      "2\n",
      "3\n",
      "Corey\n",
      "Nicole\n"
     ]
    }
   ],
   "source": [
    "letters = ['a','b','c','d']\n",
    "numbers = [0,1,2,3]\n",
    "names  = ['Corey','Nicole']\n",
    "\n",
    "combined = itertools.chain(letters,numbers,names)\n",
    "\n",
    "for i in combined:\n",
    "    print(i)"
   ]
  },
  {
   "cell_type": "code",
   "execution_count": 64,
   "metadata": {},
   "outputs": [
    {
     "name": "stdout",
     "output_type": "stream",
     "text": [
      "b\n",
      "d\n",
      "1\n"
     ]
    }
   ],
   "source": [
    "letters = ['a','b','c','d']\n",
    "numbers = [0,1,2,3]\n",
    "names  = ['Corey','Nicole']\n",
    "\n",
    "combined = itertools.chain(letters,numbers,names)\n",
    "\n",
    "ncomb = itertools.islice(combined,1,7,2)\n",
    "\n",
    "for i in ncomb:\n",
    "    print(i)"
   ]
  }
 ],
 "metadata": {
  "kernelspec": {
   "display_name": "Python 3",
   "language": "python",
   "name": "python3"
  },
  "language_info": {
   "codemirror_mode": {
    "name": "ipython",
    "version": 3
   },
   "file_extension": ".py",
   "mimetype": "text/x-python",
   "name": "python",
   "nbconvert_exporter": "python",
   "pygments_lexer": "ipython3",
   "version": "3.7.1"
  }
 },
 "nbformat": 4,
 "nbformat_minor": 2
}
