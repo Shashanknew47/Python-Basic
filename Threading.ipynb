{
 "cells": [
  {
   "cell_type": "markdown",
   "metadata": {},
   "source": [
    "## Threading\n",
    "\n",
    "Threading means done many tasks concurantly.\n",
    "In python we run tasks top to bottam. \n",
    "\n",
    "First we finish one taks and then only we start a new task.\n",
    "\n",
    "With the help of threading we could run multiple simultaneously. (Before applying threading make sure that the task we are\n",
    "                                                                   making concurnat was not required to complte to run                                                                        another task)\n",
    "                                                                   \n",
    "\n",
    "\n",
    "#Threading works on I/O bound tasks ex. file system objects, networking operations. "
   ]
  },
  {
   "cell_type": "markdown",
   "metadata": {},
   "source": [
    "![title](Threading1.PNG)"
   ]
  },
  {
   "cell_type": "code",
   "execution_count": 2,
   "metadata": {},
   "outputs": [
    {
     "name": "stdout",
     "output_type": "stream",
     "text": [
      "sleep for 1 second\n",
      "Done Sleeping\n",
      "1.009134000000003\n"
     ]
    }
   ],
   "source": [
    "import time\n",
    "\n",
    "start = time.perf_counter()\n",
    "\n",
    "\n",
    "def do_something():\n",
    "    print('sleep for 1 second')\n",
    "    time.sleep(1)\n",
    "    print('Done Sleeping')\n",
    "    \n",
    "    \n",
    "do_something()\n",
    "\n",
    "\n",
    "end = time.perf_counter()\n",
    "\n",
    "print(end-start)"
   ]
  }
 ],
 "metadata": {
  "kernelspec": {
   "display_name": "Python 3",
   "language": "python",
   "name": "python3"
  },
  "language_info": {
   "codemirror_mode": {
    "name": "ipython",
    "version": 3
   },
   "file_extension": ".py",
   "mimetype": "text/x-python",
   "name": "python",
   "nbconvert_exporter": "python",
   "pygments_lexer": "ipython3",
   "version": "3.7.1"
  }
 },
 "nbformat": 4,
 "nbformat_minor": 2
}
