{
 "cells": [
  {
   "cell_type": "code",
   "execution_count": 11,
   "metadata": {},
   "outputs": [
    {
     "name": "stdout",
     "output_type": "stream",
     "text": [
      "['DirEntry', 'F_OK', 'MutableMapping', 'O_APPEND', 'O_BINARY', 'O_CREAT', 'O_EXCL', 'O_NOINHERIT', 'O_RANDOM', 'O_RDONLY', 'O_RDWR', 'O_SEQUENTIAL', 'O_SHORT_LIVED', 'O_TEMPORARY', 'O_TEXT', 'O_TRUNC', 'O_WRONLY', 'P_DETACH', 'P_NOWAIT', 'P_NOWAITO', 'P_OVERLAY', 'P_WAIT', 'PathLike', 'R_OK', 'SEEK_CUR', 'SEEK_END', 'SEEK_SET', 'TMP_MAX', 'W_OK', 'X_OK', '_Environ', '__all__', '__builtins__', '__cached__', '__doc__', '__file__', '__loader__', '__name__', '__package__', '__spec__', '_execvpe', '_exists', '_exit', '_fspath', '_get_exports_list', '_putenv', '_unsetenv', '_wrap_close', 'abc', 'abort', 'access', 'altsep', 'chdir', 'chmod', 'close', 'closerange', 'cpu_count', 'curdir', 'defpath', 'device_encoding', 'devnull', 'dup', 'dup2', 'environ', 'error', 'execl', 'execle', 'execlp', 'execlpe', 'execv', 'execve', 'execvp', 'execvpe', 'extsep', 'fdopen', 'fsdecode', 'fsencode', 'fspath', 'fstat', 'fsync', 'ftruncate', 'get_exec_path', 'get_handle_inheritable', 'get_inheritable', 'get_terminal_size', 'getcwd', 'getcwdb', 'getenv', 'getlogin', 'getpid', 'getppid', 'isatty', 'kill', 'linesep', 'link', 'listdir', 'lseek', 'lstat', 'makedirs', 'mkdir', 'name', 'open', 'pardir', 'path', 'pathsep', 'pipe', 'popen', 'putenv', 'read', 'readlink', 'remove', 'removedirs', 'rename', 'renames', 'replace', 'rmdir', 'scandir', 'sep', 'set_handle_inheritable', 'set_inheritable', 'spawnl', 'spawnle', 'spawnv', 'spawnve', 'st', 'startfile', 'stat', 'stat_result', 'statvfs_result', 'strerror', 'supports_bytes_environ', 'supports_dir_fd', 'supports_effective_ids', 'supports_fd', 'supports_follow_symlinks', 'symlink', 'sys', 'system', 'terminal_size', 'times', 'times_result', 'truncate', 'umask', 'uname_result', 'unlink', 'urandom', 'utime', 'waitpid', 'walk', 'write']\n"
     ]
    }
   ],
   "source": [
    "import os\n",
    "print(dir(os))        "
   ]
  },
  {
   "cell_type": "code",
   "execution_count": 1,
   "metadata": {},
   "outputs": [
    {
     "output_type": "stream",
     "name": "stdout",
     "text": [
      "c:\\Users\\Shashank\\Notes\\Python basic\nC:\\Users\\Shashank\\Notes\n"
     ]
    }
   ],
   "source": [
    "print(os.getcwd());     \"printing the current working directory.\"\n",
    "(os.chdir(r'C:\\Users\\Shashank\\Notes')); \"Changing the current working directory.\"\n",
    "print(os.getcwd())"
   ]
  },
  {
   "cell_type": "code",
   "execution_count": 2,
   "metadata": {},
   "outputs": [
    {
     "output_type": "stream",
     "name": "stdout",
     "text": [
      "['.ipynb_checkpoints', 'Classes.ipynb', 'CSV Module', 'CSV Module.ipynb', 'Employee.py', 'Files.ipynb', 'first.ipynb', 'First_python.ipynb', 'Fluent Python', 'Fred Beptiste', 'Functions', 'Json practice.ipynb', 'Matplot', 'Matplotlib', 'new_name.csv', 'Numpy', 'Object oriented Python', 'Pandas', 'Pract2.py', 'Python basic', 'Seaborn', 'Untitled.ipynb', 'Untitled1.ipynb', 'Untitled2.ipynb', 'Untitled3.ipynb', 'Untitled4.ipynb', 'Web Scrapping and API', '__pycache__']\n"
     ]
    },
    {
     "output_type": "execute_result",
     "data": {
      "text/plain": [
       "'Files and folders in currect working directory.'"
      ]
     },
     "metadata": {},
     "execution_count": 2
    }
   ],
   "source": [
    "print(os.listdir());   \"Files and folders in currect working directory.\" "
   ]
  },
  {
   "cell_type": "code",
   "execution_count": 14,
   "metadata": {},
   "outputs": [],
   "source": [
    "\"Creating a new working directory.\"\n",
    "\n",
    "os.chdir(r'C:\\Users\\Shashank\\Notes\\Python basic')\n",
    "os.mkdir('Os_module')"
   ]
  },
  {
   "cell_type": "code",
   "execution_count": 15,
   "metadata": {},
   "outputs": [],
   "source": [
    "os.rmdir('Os_module');  \"To remove a directory\""
   ]
  },
  {
   "cell_type": "code",
   "execution_count": 16,
   "metadata": {},
   "outputs": [],
   "source": [
    "\"Create a directory and sub directory into it.\"\n",
    "\n",
    "os.makedirs('Os_mdule/sub_dir1/level1')"
   ]
  },
  {
   "cell_type": "code",
   "execution_count": 17,
   "metadata": {},
   "outputs": [],
   "source": [
    "\"To remove multilevel directories.\"\n",
    "\n",
    "os.removedirs('Os_mdule/sub_dir1/level1')"
   ]
  },
  {
   "cell_type": "code",
   "execution_count": 18,
   "metadata": {},
   "outputs": [],
   "source": [
    "\"Renameing a file.\"\n",
    "os.rename('Untitled.ipynb','OS_module.ipynb')"
   ]
  },
  {
   "cell_type": "code",
   "execution_count": 19,
   "metadata": {},
   "outputs": [
    {
     "data": {
      "text/plain": [
       "os.stat_result(st_mode=33206, st_ino=5910974511001453, st_dev=3937658514, st_nlink=1, st_uid=0, st_gid=0, st_size=8909, st_atime=1598076219, st_mtime=1598076219, st_ctime=1588931270)"
      ]
     },
     "execution_count": 19,
     "metadata": {},
     "output_type": "execute_result"
    }
   ],
   "source": [
    "\" To check the information about OS_module file.\"\n",
    "import os\n",
    "os.stat('OS_module.ipynb')"
   ]
  },
  {
   "cell_type": "code",
   "execution_count": 20,
   "metadata": {},
   "outputs": [
    {
     "name": "stdout",
     "output_type": "stream",
     "text": [
      "2020-08-22 11:33:39.194917\n"
     ]
    }
   ],
   "source": [
    "\" To check these times or info in human readable format.\"\n",
    "from datetime import datetime\n",
    "mod_time = os.stat('OS_module.ipynb').st_mtime\n",
    "\n",
    "print(datetime.fromtimestamp(mod_time))"
   ]
  },
  {
   "cell_type": "code",
   "execution_count": 6,
   "metadata": {
    "tags": []
   },
   "outputs": [
    {
     "output_type": "stream",
     "name": "stdout",
     "text": [
      "D:\\How Python Imports Modules ['example1', 'example2', 'example3a', 'example3b'] ['How does Python import Modules.ipynb', 'prac1.py']\nD:\\How Python Imports Modules\\example1 ['__pycache__'] ['main.py', 'module1.py']\nD:\\How Python Imports Modules\\example1\\__pycache__ [] ['module1.cpython-38.pyc']\nD:\\How Python Imports Modules\\example2 [] ['main.py', 'module1.py']\nD:\\How Python Imports Modules\\example3a [] ['main.py', 'module1_source.py']\nD:\\How Python Imports Modules\\example3b [] ['importer.py', 'main.py', 'module1_source.py', 'module2.py']\n"
     ]
    }
   ],
   "source": [
    "\"To check the entire directory tree\"\n",
    "import os\n",
    "path = r'D:\\How Python Imports Modules'\n",
    "for dirpath,dirnames,filenames in os.walk(path):\n",
    "    print(dirpath,dirnames,filenames)"
   ]
  },
  {
   "cell_type": "code",
   "execution_count": 8,
   "metadata": {},
   "outputs": [
    {
     "output_type": "execute_result",
     "data": {
      "text/plain": [
       "environ{'ALLUSERSPROFILE': 'C:\\\\ProgramData',\n",
       "        'AMD_ENTRYPOINT': 'vs/workbench/services/extensions/node/extensionHostProcess',\n",
       "        'APPDATA': 'C:\\\\Users\\\\Shashank\\\\AppData\\\\Roaming',\n",
       "        'APPLICATION_INSIGHTS_NO_DIAGNOSTIC_CHANNEL': 'true',\n",
       "        'CHOCOLATEYINSTALL': 'C:\\\\ProgramData\\\\chocolatey',\n",
       "        'CHOCOLATEYLASTPATHUPDATE': '132435429253885026',\n",
       "        'CHROME_CRASHPAD_PIPE_NAME': '\\\\\\\\.\\\\pipe\\\\crashpad_23772_MONEZNXOCKCTOMQZ',\n",
       "        'COMMONPROGRAMFILES': 'C:\\\\Program Files\\\\Common Files',\n",
       "        'COMMONPROGRAMFILES(X86)': 'C:\\\\Program Files (x86)\\\\Common Files',\n",
       "        'COMMONPROGRAMW6432': 'C:\\\\Program Files\\\\Common Files',\n",
       "        'COMPUTERNAME': 'DESKTOP-SDLFMKO',\n",
       "        'COMSPEC': 'C:\\\\WINDOWS\\\\system32\\\\cmd.exe',\n",
       "        'DRIVERDATA': 'C:\\\\Windows\\\\System32\\\\Drivers\\\\DriverData',\n",
       "        'ELECTRON_NO_ATTACH_CONSOLE': '1',\n",
       "        'ELECTRON_RUN_AS_NODE': '1',\n",
       "        'FPS_BROWSER_APP_PROFILE_STRING': 'Internet Explorer',\n",
       "        'FPS_BROWSER_USER_PROFILE_STRING': 'Default',\n",
       "        'FUNCTION_CONN': 'C:\\\\Users\\\\Shashank\\\\Notes\\\\Functions',\n",
       "        'HOMEDRIVE': 'C:',\n",
       "        'HOMEPATH': '\\\\Users\\\\Shashank',\n",
       "        'JUPYTER_NOTES': 'C:\\\\Users\\\\Shashank\\\\Notes',\n",
       "        'LOCALAPPDATA': 'C:\\\\Users\\\\Shashank\\\\AppData\\\\Local',\n",
       "        'LOGONSERVER': '\\\\\\\\DESKTOP-SDLFMKO',\n",
       "        'NUMBER_OF_PROCESSORS': '8',\n",
       "        'ONEDRIVE': 'C:\\\\Users\\\\Shashank\\\\OneDrive',\n",
       "        'ONEDRIVECONSUMER': 'C:\\\\Users\\\\Shashank\\\\OneDrive',\n",
       "        'ORIGINAL_XDG_CURRENT_DESKTOP': 'undefined',\n",
       "        'OS': 'Windows_NT',\n",
       "        'PATH': 'C:\\\\Python38\\\\Scripts\\\\;C:\\\\Python38\\\\;C:\\\\Program Files\\\\Python37\\\\Scripts\\\\;C:\\\\Program Files\\\\Python37\\\\;C:\\\\Program Files (x86)\\\\Intel\\\\Intel(R) Management Engine Components\\\\iCLS\\\\;C:\\\\Program Files\\\\Intel\\\\Intel(R) Management Engine Components\\\\iCLS\\\\;C:\\\\WINDOWS\\\\system32;C:\\\\WINDOWS;C:\\\\WINDOWS\\\\System32\\\\Wbem;C:\\\\WINDOWS\\\\System32\\\\WindowsPowerShell\\\\v1.0\\\\;C:\\\\WINDOWS\\\\System32\\\\OpenSSH\\\\;C:\\\\Program Files (x86)\\\\Intel\\\\Intel(R) Management Engine Components\\\\DAL;C:\\\\Program Files\\\\Intel\\\\Intel(R) Management Engine Components\\\\DAL;C:\\\\Program Files (x86)\\\\Intel\\\\Intel(R) Management Engine Components\\\\IPT;C:\\\\Program Files\\\\Intel\\\\Intel(R) Management Engine Components\\\\IPT;C:\\\\Program Files\\\\Git\\\\cmd;C:\\\\Users\\\\Shashank\\\\AppData\\\\Local\\\\Programs\\\\Python\\\\Python37-32\\\\Scripts;C:\\\\Program Files\\\\dotnet\\\\;C:\\\\Program Files\\\\Microsoft SQL Server\\\\130\\\\Tools\\\\Binn\\\\;C:\\\\Program Files\\\\Microsoft SQL Server\\\\Client SDK\\\\ODBC\\\\170\\\\Tools\\\\Binn\\\\;C:\\\\ProgramData\\\\chocolatey\\\\bin;C:\\\\Program Files\\\\nodejs\\\\;C:\\\\Users\\\\Shashank\\\\AppData\\\\Local\\\\Programs\\\\Python\\\\Python37-32\\\\Scripts\\\\;C:\\\\Users\\\\Shashank\\\\AppData\\\\Local\\\\Programs\\\\Python\\\\Python37-32\\\\;C:\\\\Users\\\\Shashank\\\\AppData\\\\Local\\\\Microsoft\\\\WindowsApps;C:\\\\Program Files\\\\JetBrains\\\\PyCharm Community Edition 2018.3.5\\\\bin;C:\\\\Users\\\\Shashank\\\\AppData\\\\Local\\\\GitHubDesktop\\\\bin;C:\\\\Users\\\\Shashank\\\\AppData\\\\Local\\\\Programs\\\\Microsoft VS Code\\\\bin;C:\\\\Users\\\\Shashank\\\\AppData\\\\Roaming\\\\npm',\n",
       "        'PATHEXT': '.COM;.EXE;.BAT;.CMD;.VBS;.VBE;.JS;.JSE;.WSF;.WSH;.MSC;.PY;.PYW',\n",
       "        'PIPE_LOGGING': 'true',\n",
       "        'PROCESSOR_ARCHITECTURE': 'AMD64',\n",
       "        'PROCESSOR_IDENTIFIER': 'Intel64 Family 6 Model 142 Stepping 10, GenuineIntel',\n",
       "        'PROCESSOR_LEVEL': '6',\n",
       "        'PROCESSOR_REVISION': '8e0a',\n",
       "        'PROGRAMDATA': 'C:\\\\ProgramData',\n",
       "        'PROGRAMFILES': 'C:\\\\Program Files',\n",
       "        'PROGRAMFILES(X86)': 'C:\\\\Program Files (x86)',\n",
       "        'PROGRAMW6432': 'C:\\\\Program Files',\n",
       "        'PROMPT': '$P$G',\n",
       "        'PSMODULEPATH': 'C:\\\\Program Files\\\\WindowsPowerShell\\\\Modules;C:\\\\WINDOWS\\\\system32\\\\WindowsPowerShell\\\\v1.0\\\\Modules',\n",
       "        'PUBLIC': 'C:\\\\Users\\\\Public',\n",
       "        'PYCHARM COMMUNITY EDITION': 'C:\\\\Program Files\\\\JetBrains\\\\PyCharm Community Edition 2018.3.5\\\\bin;',\n",
       "        'PYTHONIOENCODING': 'utf-8',\n",
       "        'PYTHONPATH': 'c:\\\\Users\\\\Shashank\\\\.vscode\\\\extensions\\\\ms-python.python-2020.9.114305\\\\pythonFiles;c:\\\\Users\\\\Shashank\\\\.vscode\\\\extensions\\\\ms-python.python-2020.9.114305\\\\pythonFiles\\\\lib\\\\python',\n",
       "        'PYTHONUNBUFFERED': '1',\n",
       "        'PYTHONWARNINGS': 'ignore',\n",
       "        'SESSIONNAME': 'Console',\n",
       "        'SYSTEMDRIVE': 'C:',\n",
       "        'SYSTEMROOT': 'C:\\\\WINDOWS',\n",
       "        'TEMP': 'C:\\\\Users\\\\Shashank\\\\AppData\\\\Local\\\\Temp',\n",
       "        'TMP': 'C:\\\\Users\\\\Shashank\\\\AppData\\\\Local\\\\Temp',\n",
       "        'USERDOMAIN': 'DESKTOP-SDLFMKO',\n",
       "        'USERDOMAIN_ROAMINGPROFILE': 'DESKTOP-SDLFMKO',\n",
       "        'USERNAME': 'Shashank',\n",
       "        'USERPROFILE': 'C:\\\\Users\\\\Shashank',\n",
       "        'USER_NAME': 'Shashank Jain',\n",
       "        'VBOX_MSI_INSTALL_PATH': 'C:\\\\Program Files\\\\Oracle\\\\VirtualBox\\\\',\n",
       "        'VERBOSE_LOGGING': 'true',\n",
       "        'VSCODE_CLI': '1',\n",
       "        'VSCODE_CWD': 'C:\\\\Users\\\\Shashank\\\\Desktop\\\\first_project',\n",
       "        'VSCODE_HANDLES_UNCAUGHT_ERRORS': 'true',\n",
       "        'VSCODE_IPC_HOOK': '\\\\\\\\.\\\\pipe\\\\c7abb3366a00fda92e8bb110dd9ba695-1.50.1-main-sock',\n",
       "        'VSCODE_IPC_HOOK_EXTHOST': '\\\\\\\\.\\\\pipe\\\\vscode-ipc-5eb8a001-c2fe-42bd-a23c-96efaa0791a2-sock',\n",
       "        'VSCODE_LOGS': 'C:\\\\Users\\\\Shashank\\\\AppData\\\\Roaming\\\\Code\\\\logs\\\\20201018T111804',\n",
       "        'VSCODE_LOG_STACK': 'false',\n",
       "        'VSCODE_NLS_CONFIG': '{\"locale\":\"en-us\",\"availableLanguages\":{},\"_languagePackSupport\":true}',\n",
       "        'VSCODE_NODE_CACHED_DATA_DIR': 'C:\\\\Users\\\\Shashank\\\\AppData\\\\Roaming\\\\Code\\\\CachedData\\\\d2e414d9e4239a252d1ab117bd7067f125afd80a',\n",
       "        'VSCODE_PID': '23772',\n",
       "        'WINDIR': 'C:\\\\WINDOWS',\n",
       "        'JPY_INTERRUPT_EVENT': '488',\n",
       "        'IPY_INTERRUPT_EVENT': '488',\n",
       "        'JPY_PARENT_PID': '452',\n",
       "        'TERM': 'xterm-color',\n",
       "        'CLICOLOR': '1',\n",
       "        'PAGER': 'cat',\n",
       "        'GIT_PAGER': 'cat',\n",
       "        'MPLBACKEND': 'module://ipykernel.pylab.backend_inline'}"
      ]
     },
     "metadata": {},
     "execution_count": 8
    }
   ],
   "source": [
    "(os.environ)"
   ]
  },
  {
   "cell_type": "code",
   "execution_count": 23,
   "metadata": {},
   "outputs": [
    {
     "data": {
      "text/plain": [
       "'\\\\Users\\\\Shashank'"
      ]
     },
     "execution_count": 23,
     "metadata": {},
     "output_type": "execute_result"
    }
   ],
   "source": [
    "#To get the home directory.\n",
    "os.environ.get('HOMEPATH')"
   ]
  },
  {
   "cell_type": "markdown",
   "metadata": {},
   "source": [
    "### os.path methonds:"
   ]
  },
  {
   "cell_type": "markdown",
   "metadata": {},
   "source": [
    "### os.path.join"
   ]
  },
  {
   "cell_type": "code",
   "execution_count": 10,
   "metadata": {},
   "outputs": [
    {
     "output_type": "stream",
     "name": "stdout",
     "text": [
      "\\Users\\Shashank\\Desktop\\trial.txt\nb: \\Users\\Shashank\\Desktop\\trial.txt\n"
     ]
    }
   ],
   "source": [
    "# To joing the 2 paths.\n",
    "a = os.environ.get('HOMEPATH')\n",
    "\n",
    "b = os.path.join(a,'Desktop\\\\trial.txt')\n",
    "print(b)\n",
    "\n",
    "with open(b,'w') as os_file:\n",
    "    os_file.write('after append')\n",
    "\n",
    "print('b:',b)"
   ]
  },
  {
   "cell_type": "markdown",
   "metadata": {},
   "source": [
    "#### os.path.basename,  os.path.dirname, os.path.split, os.path.exists"
   ]
  },
  {
   "cell_type": "code",
   "execution_count": 62,
   "metadata": {},
   "outputs": [
    {
     "name": "stdout",
     "output_type": "stream",
     "text": [
      "b: \\Users\\Shashank\\Desktop\\trial.txt\n",
      "**********************\n",
      "basename: trial.txt\n",
      "dirname: \\Users\\Shashank\\Desktop\n",
      "split: ('\\\\Users\\\\Shashank\\\\Desktop', 'trial.txt')\n",
      "splitext ('\\\\Users\\\\Shashank\\\\Desktop\\\\trial', '.txt')\n",
      "realpath: C:\\Users\\Shashank\\Desktop\\trial.txt\n"
     ]
    }
   ],
   "source": [
    "print('b:',b)\n",
    "print('**********************')\n",
    "print('basename:',os.path.basename(b))                # basename: This gives the file name in a path\n",
    "\n",
    "print('dirname:',os.path.dirname(b))                  # dirname: This provide directory name in a path.\n",
    "\n",
    "print('split:',os.path.split(b))                      # split:   This provide splited dirname and file name.\n",
    "\n",
    "print('splitext',os.path.splitext(b))                 #To get file extention seperatly. \n",
    "\n",
    "print('realpath:',os.path.realpath(b))                # To get the fullpath\n"
   ]
  },
  {
   "cell_type": "markdown",
   "metadata": {},
   "source": [
    "#### os.path.isdir, os.path.isfile"
   ]
  },
  {
   "cell_type": "code",
   "execution_count": 52,
   "metadata": {},
   "outputs": [
    {
     "name": "stdout",
     "output_type": "stream",
     "text": [
      "exist: True\n",
      "*********************************\n",
      "isdir: False\n",
      "*********************************\n",
      "isfile: True\n",
      "*********************************\n"
     ]
    }
   ],
   "source": [
    "print('exist:',os.path.exists(b))                              # To chekc wether a path exists or not\n",
    "\n",
    "print('isdir:',os.path.isdir(b))                               #To check weather a path is a directory or not\n",
    "\n",
    "print('isfile:',os.path.isfile(b))                              # To check if it is a path to a file."
   ]
  },
  {
   "cell_type": "markdown",
   "metadata": {},
   "source": [
    "#### os.path.splitext"
   ]
  },
  {
   "cell_type": "code",
   "execution_count": 28,
   "metadata": {},
   "outputs": [
    {
     "data": {
      "text/plain": [
       "12"
      ]
     },
     "execution_count": 28,
     "metadata": {},
     "output_type": "execute_result"
    }
   ],
   "source": [
    "os.path.getsize(b)"
   ]
  },
  {
   "cell_type": "code",
   "execution_count": 65,
   "metadata": {},
   "outputs": [
    {
     "data": {
      "text/plain": [
       "'C:\\\\Users\\\\Shashank\\\\Notes\\\\Python basic'"
      ]
     },
     "execution_count": 65,
     "metadata": {},
     "output_type": "execute_result"
    }
   ],
   "source": [
    "os.path.abspath('.')"
   ]
  },
  {
   "cell_type": "code",
   "execution_count": 67,
   "metadata": {},
   "outputs": [],
   "source": [
    "os.chdir('C:\\\\Users\\\\Shashank')"
   ]
  },
  {
   "cell_type": "code",
   "execution_count": 68,
   "metadata": {},
   "outputs": [
    {
     "data": {
      "text/plain": [
       "'C:\\\\Users\\\\Shashank'"
      ]
     },
     "execution_count": 68,
     "metadata": {},
     "output_type": "execute_result"
    }
   ],
   "source": [
    "\n",
    "os.path.abspath('.')"
   ]
  }
 ],
 "metadata": {
  "kernelspec": {
   "display_name": "Python 3",
   "language": "python",
   "name": "python3"
  },
  "language_info": {
   "codemirror_mode": {
    "name": "ipython",
    "version": 3
   },
   "file_extension": ".py",
   "mimetype": "text/x-python",
   "name": "python",
   "nbconvert_exporter": "python",
   "pygments_lexer": "ipython3",
   "version": "3.8.5-final"
  }
 },
 "nbformat": 4,
 "nbformat_minor": 2
}