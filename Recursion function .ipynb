{
 "cells": [
  {
   "cell_type": "code",
   "execution_count": 1,
   "metadata": {},
   "outputs": [
    {
     "name": "stdout",
     "output_type": "stream",
     "text": [
      "1\n",
      "2\n",
      "3\n",
      "4\n"
     ]
    }
   ],
   "source": [
    "Di = {'a':1,'b':2,'c':3,'d':4,'e':{'f':5},'g':{'k':{'i':10}}}\n",
    "\n",
    "Dili =  {'a':1,'b':2,'c':3,'d':4,'e':{'f':{'g':5}}}\n",
    "\n",
    "for d in Di.items():\n",
    "    if isinstance(d[-1],int):\n",
    "        print(d[-1])\n"
   ]
  },
  {
   "cell_type": "code",
   "execution_count": 2,
   "metadata": {},
   "outputs": [
    {
     "name": "stdout",
     "output_type": "stream",
     "text": [
      "1\n",
      "2\n",
      "3\n",
      "4\n",
      "5\n"
     ]
    }
   ],
   "source": [
    "for d in Di.items():\n",
    "    if isinstance(d[-1],int):\n",
    "        print(d[-1])\n",
    "    elif isinstance(d[-1],dict):\n",
    "        for i in d[-1].items():\n",
    "            if isinstance(i[-1],int):\n",
    "                print(i[-1])\n",
    "                \n",
    "    \n",
    "    "
   ]
  },
  {
   "cell_type": "code",
   "execution_count": 3,
   "metadata": {},
   "outputs": [
    {
     "name": "stdout",
     "output_type": "stream",
     "text": [
      "1\n",
      "2\n",
      "3\n",
      "4\n",
      "5\n",
      "10\n"
     ]
    }
   ],
   "source": [
    "def find_val(Di):\n",
    "    Li = []\n",
    "    for d in Di.items():\n",
    "        if isinstance(d[-1],int):\n",
    "            print(d[-1])\n",
    "        elif isinstance(d[-1],dict):\n",
    "             find_val(d[-1])\n",
    "        \n",
    "                    \n",
    "find_val(Di)\n"
   ]
  },
  {
   "cell_type": "code",
   "execution_count": 2,
   "metadata": {},
   "outputs": [
    {
     "name": "stdout",
     "output_type": "stream",
     "text": [
      "1\n",
      "2\n",
      "3\n",
      "4\n",
      "5\n",
      "[1, 2, 3, 4, 5]\n"
     ]
    }
   ],
   "source": [
    "Di = {'a':1,'b':2,'c':3,'d':4,'e':{'f':5},'g':{'k':{'i':10}}}\n",
    "\n",
    "Dili =  {'a':1,'b':2,'c':3,'d':4,'e':{'f':{'g':5}}}\n",
    "\n",
    "def find_val(Di,Li= None):\n",
    "    if Li is None:\n",
    "        Li = []\n",
    "    for d in Di.items():\n",
    "        if isinstance(d[-1],int):\n",
    "            print(d[-1])\n",
    "            Li.append((d[-1]))\n",
    "        elif isinstance(d[-1],dict):\n",
    "             find_val(d[-1],Li)\n",
    "    return Li\n",
    "\n",
    "\n",
    "\n",
    "#find_val(Di)\n",
    "\n",
    "L1 = print(find_val(Dili))\n"
   ]
  },
  {
   "cell_type": "code",
   "execution_count": 5,
   "metadata": {},
   "outputs": [
    {
     "data": {
      "text/plain": [
       "[1, 2, 3, 4, 'f', 'k']"
      ]
     },
     "execution_count": 5,
     "metadata": {},
     "output_type": "execute_result"
    }
   ],
   "source": [
    "def find_val(Di):\n",
    "    Li = []\n",
    "    for d in Di.items():\n",
    "        if isinstance(d[-1],int):\n",
    "            Li.append(d[-1])\n",
    "        elif isinstance(d[-1],dict):\n",
    "            Li.extend(d[-1])\n",
    "            find_val(d[-1])\n",
    "    return Li\n",
    "    \n",
    "\n",
    "            \n",
    "find_val(Di)"
   ]
  },
  {
   "cell_type": "code",
   "execution_count": 1,
   "metadata": {},
   "outputs": [],
   "source": [
    "def find_val(Di):\n",
    "    Li = []\n",
    "    for d in Di.items():\n",
    "        if isinstance(d[-1],int):\n",
    "            Li.append(d[-1])\n",
    "        elif isinstance(d[-1],dict):\n",
    "            Li.extend(d[-1])\n",
    "            find_val(d[-1])\n",
    "    return Li\n",
    "    \n",
    "\n",
    "            "
   ]
  }
 ],
 "metadata": {
  "kernelspec": {
   "display_name": "Python 3",
   "language": "python",
   "name": "python3"
  },
  "language_info": {
   "codemirror_mode": {
    "name": "ipython",
    "version": 3
   },
   "file_extension": ".py",
   "mimetype": "text/x-python",
   "name": "python",
   "nbconvert_exporter": "python",
   "pygments_lexer": "ipython3",
   "version": "3.7.1"
  }
 },
 "nbformat": 4,
 "nbformat_minor": 2
}
