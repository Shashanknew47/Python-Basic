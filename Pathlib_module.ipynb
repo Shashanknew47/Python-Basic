{
 "metadata": {
  "language_info": {
   "codemirror_mode": {
    "name": "ipython",
    "version": 3
   },
   "file_extension": ".py",
   "mimetype": "text/x-python",
   "name": "python",
   "nbconvert_exporter": "python",
   "pygments_lexer": "ipython3",
   "version": "3.8.5-final"
  },
  "orig_nbformat": 2,
  "kernelspec": {
   "name": "python3",
   "display_name": "Python 3.8.5 64-bit",
   "metadata": {
    "interpreter": {
     "hash": "2db524e06e9f5f4ffedc911c917cb75e12dbc923643829bf417064a77eb14d37"
    }
   }
  }
 },
 "nbformat": 4,
 "nbformat_minor": 2,
 "cells": [
  {
   "cell_type": "code",
   "execution_count": 1,
   "metadata": {},
   "outputs": [
    {
     "output_type": "stream",
     "name": "stdout",
     "text": [
      "d:\\Coding Notes\\Python Basic\n"
     ]
    }
   ],
   "source": [
    "\"Get the current path\"\n",
    "import pathlib\n",
    "print(pathlib.Path.cwd())\n"
   ]
  },
  {
   "cell_type": "code",
   "execution_count": 2,
   "metadata": {},
   "outputs": [
    {
     "output_type": "stream",
     "name": "stdout",
     "text": [
      ".\nd:\\Coding Notes\\Python Basic\n"
     ]
    }
   ],
   "source": [
    "\"Another mehtod to get the current path\"\n",
    "a = pathlib.Path('.')\n",
    "print(a)\n",
    "print(a.absolute())    #absolute mehod we use to read the abslute pathname \n",
    "\n",
    "#Note: use this \".\" method only to get current path. as other pathlib methods will not be applicable here. \n",
    "\n"
   ]
  },
  {
   "cell_type": "code",
   "execution_count": 3,
   "metadata": {},
   "outputs": [
    {
     "output_type": "stream",
     "name": "stdout",
     "text": [
      "C:\\Users\\Shashank\n"
     ]
    }
   ],
   "source": [
    "\"Get the home path\"\n",
    "q = pathlib.Path.home() \n",
    "print(q)"
   ]
  },
  {
   "cell_type": "code",
   "execution_count": 4,
   "metadata": {},
   "outputs": [
    {
     "output_type": "execute_result",
     "data": {
      "text/plain": [
       "WindowsPath('c:/Users/Shashank/Notes/Python basic')"
      ]
     },
     "metadata": {},
     "execution_count": 4
    }
   ],
   "source": [
    "\"A path explicitly created from it's string representation.\"\n",
    "pathlib.Path(r'c:\\Users\\Shashank\\Notes\\Python basic')"
   ]
  },
  {
   "cell_type": "code",
   "execution_count": 5,
   "metadata": {},
   "outputs": [
    {
     "output_type": "execute_result",
     "data": {
      "text/plain": [
       "WindowsPath('C:/Users/Shashank/Notes/Python basic')"
      ]
     },
     "metadata": {},
     "execution_count": 5
    }
   ],
   "source": [
    "\"Another way to create a path\"\n",
    "pathlib.Path.home() /'Notes'/'Python basic'"
   ]
  },
  {
   "cell_type": "code",
   "execution_count": 6,
   "metadata": {},
   "outputs": [
    {
     "output_type": "execute_result",
     "data": {
      "text/plain": [
       "WindowsPath('C:/Users/Shashank/Notes/Python basic')"
      ]
     },
     "metadata": {},
     "execution_count": 6
    }
   ],
   "source": [
    "\"One more way to create a path\"\n",
    "pathlib.Path.home().joinpath('Notes','Python basic')"
   ]
  },
  {
   "source": [
    "## Opening file with path module\n",
    "\n",
    "#### Normal way"
   ],
   "cell_type": "markdown",
   "metadata": {}
  },
  {
   "cell_type": "code",
   "execution_count": 7,
   "metadata": {},
   "outputs": [
    {
     "output_type": "stream",
     "name": "stdout",
     "text": [
      "['--> Purpost of a virtual environment to load packages which are specific of a certian project. Using virtual environment you need  python \\n', '    3.3 or higher. It comes with an standard library. \\n', '\\n', '--> Use ----\"pip list\"----- commands to check installed packages.Normally you will notice a long list of pakages which you have installed \\n']\n"
     ]
    }
   ],
   "source": [
    "path = pathlib.Path.cwd()/'Virtual_environment'/'Notes.txt'\n",
    "with open(path,'r') as venv:\n",
    "    v_read = venv.readlines(200)\n",
    "    print(v_read)"
   ]
  },
  {
   "source": [
    "Equivelant alternative of this read file task is in Pathobject."
   ],
   "cell_type": "markdown",
   "metadata": {}
  },
  {
   "cell_type": "code",
   "execution_count": 8,
   "metadata": {},
   "outputs": [
    {
     "output_type": "stream",
     "name": "stdout",
     "text": [
      "['--> Purpost of a virtual environment to load packages which are specific of a certian project. Using virtual environment you need  python \\n', '    3.3 or higher. It comes with an standard library. \\n', '\\n', '--> Use ----\"pip list\"----- commands to check installed packages.Normally you will notice a long list of pakages which you have installed \\n']\n"
     ]
    }
   ],
   "source": [
    "path = pathlib.Path.cwd()/'Virtual_environment'/'Notes.txt'\n",
    "with path.open(mode='r') as venv:\n",
    "    v_read = venv.readlines(200)\n",
    "    print(v_read)"
   ]
  },
  {
   "cell_type": "code",
   "execution_count": 9,
   "metadata": {},
   "outputs": [
    {
     "output_type": "execute_result",
     "data": {
      "text/plain": [
       "'certifi==2020.6.20\\nchardet==3.0.4\\nidna==2.10\\npytz==2020.4\\nrequests==2.24.0\\nurllib3==1.25.11\\n'"
      ]
     },
     "metadata": {},
     "execution_count": 9
    }
   ],
   "source": [
    "\"With this method we could direcly read the text\"\n",
    "path = pathlib.Path.cwd()/'Virtual_environment'/'requirements.txt'\n",
    "path.read_text()"
   ]
  },
  {
   "cell_type": "code",
   "execution_count": 10,
   "metadata": {},
   "outputs": [
    {
     "output_type": "execute_result",
     "data": {
      "text/plain": [
       "WindowsPath('D:/Coding Notes/Python Basic/Virtual_environment/requirements.txt')"
      ]
     },
     "metadata": {},
     "execution_count": 10
    }
   ],
   "source": [
    "\"resolve method will find the full path\"\n",
    "path.resolve()"
   ]
  },
  {
   "source": [
    "### Componets of path"
   ],
   "cell_type": "markdown",
   "metadata": {}
  },
  {
   "cell_type": "code",
   "execution_count": 11,
   "metadata": {},
   "outputs": [
    {
     "output_type": "stream",
     "name": "stdout",
     "text": [
      "path : d:\\Coding Notes\\Python Basic\\Virtual_environment\\requirements.txt\npath.name : requirements.txt\npath.stem : requirements\npath.suffix : .txt\npath.parent : d:\\Coding Notes\\Python Basic\\Virtual_environment\npath.parent.parent : d:\\Coding Notes\\Python Basic\npath.anchor : d:\\\npath.exists : True\npash.isdir(): False\n"
     ]
    }
   ],
   "source": [
    "print('path :',path)\n",
    "print('path.name :',path.name)\n",
    "print('path.stem :',path.stem)\n",
    "print('path.suffix :',path.suffix)\n",
    "print('path.parent :',path.parent)\n",
    "print('path.parent.parent :',path.parent.parent)\n",
    "print('path.anchor :',path.anchor)\n",
    "print('path.exists :',path.exists())\n",
    "print('pash.isdir():',path.is_dir())"
   ]
  },
  {
   "cell_type": "code",
   "execution_count": 12,
   "metadata": {},
   "outputs": [
    {
     "output_type": "error",
     "ename": "FileNotFoundError",
     "evalue": "[WinError 2] The system cannot find the file specified: 'd:\\\\Coding Notes\\\\Python Basic\\\\text_file.txt' -> 'd:\\\\Coding Notes\\\\Python Basic\\\\text_file.py'",
     "traceback": [
      "\u001b[1;31m---------------------------------------------------------------------------\u001b[0m",
      "\u001b[1;31mFileNotFoundError\u001b[0m                         Traceback (most recent call last)",
      "\u001b[1;32m<ipython-input-12-177313a248d1>\u001b[0m in \u001b[0;36m<module>\u001b[1;34m\u001b[0m\n\u001b[0;32m      2\u001b[0m \u001b[1;32mimport\u001b[0m \u001b[0mpathlib\u001b[0m\u001b[1;33m\u001b[0m\u001b[1;33m\u001b[0m\u001b[0m\n\u001b[0;32m      3\u001b[0m \u001b[0mpath_test\u001b[0m \u001b[1;33m=\u001b[0m \u001b[0mpathlib\u001b[0m\u001b[1;33m.\u001b[0m\u001b[0mPath\u001b[0m\u001b[1;33m.\u001b[0m\u001b[0mcwd\u001b[0m\u001b[1;33m(\u001b[0m\u001b[1;33m)\u001b[0m\u001b[1;33m/\u001b[0m\u001b[1;34m'text_file.txt'\u001b[0m\u001b[1;33m\u001b[0m\u001b[1;33m\u001b[0m\u001b[0m\n\u001b[1;32m----> 4\u001b[1;33m \u001b[0mpath_test\u001b[0m\u001b[1;33m.\u001b[0m\u001b[0mreplace\u001b[0m\u001b[1;33m(\u001b[0m\u001b[0mpath_test\u001b[0m\u001b[1;33m.\u001b[0m\u001b[0mwith_suffix\u001b[0m\u001b[1;33m(\u001b[0m\u001b[1;34m'.py'\u001b[0m\u001b[1;33m)\u001b[0m\u001b[1;33m)\u001b[0m\u001b[1;33m\u001b[0m\u001b[1;33m\u001b[0m\u001b[0m\n\u001b[0m\u001b[0;32m      5\u001b[0m \u001b[1;33m\u001b[0m\u001b[0m\n\u001b[0;32m      6\u001b[0m \u001b[1;33m\u001b[0m\u001b[0m\n",
      "\u001b[1;32mC:\\Python38\\lib\\pathlib.py\u001b[0m in \u001b[0;36mreplace\u001b[1;34m(self, target)\u001b[0m\n\u001b[0;32m   1367\u001b[0m         \u001b[1;32mif\u001b[0m \u001b[0mself\u001b[0m\u001b[1;33m.\u001b[0m\u001b[0m_closed\u001b[0m\u001b[1;33m:\u001b[0m\u001b[1;33m\u001b[0m\u001b[1;33m\u001b[0m\u001b[0m\n\u001b[0;32m   1368\u001b[0m             \u001b[0mself\u001b[0m\u001b[1;33m.\u001b[0m\u001b[0m_raise_closed\u001b[0m\u001b[1;33m(\u001b[0m\u001b[1;33m)\u001b[0m\u001b[1;33m\u001b[0m\u001b[1;33m\u001b[0m\u001b[0m\n\u001b[1;32m-> 1369\u001b[1;33m         \u001b[0mself\u001b[0m\u001b[1;33m.\u001b[0m\u001b[0m_accessor\u001b[0m\u001b[1;33m.\u001b[0m\u001b[0mreplace\u001b[0m\u001b[1;33m(\u001b[0m\u001b[0mself\u001b[0m\u001b[1;33m,\u001b[0m \u001b[0mtarget\u001b[0m\u001b[1;33m)\u001b[0m\u001b[1;33m\u001b[0m\u001b[1;33m\u001b[0m\u001b[0m\n\u001b[0m\u001b[0;32m   1370\u001b[0m         \u001b[1;32mreturn\u001b[0m \u001b[0mself\u001b[0m\u001b[1;33m.\u001b[0m\u001b[0m__class__\u001b[0m\u001b[1;33m(\u001b[0m\u001b[0mtarget\u001b[0m\u001b[1;33m)\u001b[0m\u001b[1;33m\u001b[0m\u001b[1;33m\u001b[0m\u001b[0m\n\u001b[0;32m   1371\u001b[0m \u001b[1;33m\u001b[0m\u001b[0m\n",
      "\u001b[1;31mFileNotFoundError\u001b[0m: [WinError 2] The system cannot find the file specified: 'd:\\\\Coding Notes\\\\Python Basic\\\\text_file.txt' -> 'd:\\\\Coding Notes\\\\Python Basic\\\\text_file.py'"
     ]
    }
   ],
   "source": [
    "\"Renaming file\"\n",
    "import pathlib\n",
    "path_test = pathlib.Path.cwd()/'text_file.txt' \n",
    "path_test.replace(path_test.with_suffix('.py'))\n",
    "\n",
    "\n"
   ]
  },
  {
   "cell_type": "code",
   "execution_count": 64,
   "metadata": {},
   "outputs": [
    {
     "output_type": "stream",
     "name": "stdout",
     "text": [
      ".ipynb_checkpoints\n.vscode\nData Structures\nDate and time.ipynb\nException or error handling.ipynb\nItertools.ipynb\nLogging_Module.ipynb\nName.txt\nObject oriented programming.ipynb\nOpenpyxl.ipynb\nOS_module.ipynb\nPathlib_module.ipynb\nPIP.ipynb\nPython_packages.txt\nRandom .ipynb\nRecursion function .ipynb\nRound.ipynb\nString (Text,Number & Date) Formatting.ipynb\ntext_file.py\nThreading.ipynb\nThreading1.PNG\nUntitled1.ipynb\nVirtual_environment\n"
     ]
    },
    {
     "output_type": "execute_result",
     "data": {
      "text/plain": [
       "Counter({'': 4, '.ipynb': 15, '.txt': 2, '.py': 1, '.PNG': 1})"
      ]
     },
     "metadata": {},
     "execution_count": 64
    }
   ],
   "source": [
    "\"Counting files in current directory\"\n",
    "import collections\n",
    "for p in pathlib.Path.cwd().iterdir():\n",
    "    print(p.name)\n",
    "\n",
    "collections.Counter(p.suffix for p in pathlib.Path.cwd().iterdir())"
   ]
  },
  {
   "cell_type": "code",
   "execution_count": null,
   "metadata": {},
   "outputs": [],
   "source": []
  }
 ]
}