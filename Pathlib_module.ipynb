{
 "metadata": {
  "language_info": {
   "codemirror_mode": {
    "name": "ipython",
    "version": 3
   },
   "file_extension": ".py",
   "mimetype": "text/x-python",
   "name": "python",
   "nbconvert_exporter": "python",
   "pygments_lexer": "ipython3",
   "version": "3.8.5-final"
  },
  "orig_nbformat": 2,
  "kernelspec": {
   "name": "python3",
   "display_name": "Python 3.8.5 64-bit",
   "metadata": {
    "interpreter": {
     "hash": "2db524e06e9f5f4ffedc911c917cb75e12dbc923643829bf417064a77eb14d37"
    }
   }
  }
 },
 "nbformat": 4,
 "nbformat_minor": 2,
 "cells": [
  {
   "cell_type": "code",
   "execution_count": 2,
   "metadata": {},
   "outputs": [
    {
     "output_type": "stream",
     "name": "stdout",
     "text": [
      "c:\\Users\\Shashank\\Notes\\Python basic\n"
     ]
    }
   ],
   "source": [
    "\"Get the current path\"\n",
    "import pathlib\n",
    "print(pathlib.Path.cwd())\n"
   ]
  },
  {
   "cell_type": "code",
   "execution_count": 3,
   "metadata": {},
   "outputs": [
    {
     "output_type": "stream",
     "name": "stdout",
     "text": [
      "C:\\Users\\Shashank\n"
     ]
    }
   ],
   "source": [
    "\"Get the home path\"\n",
    "q = pathlib.Path.home() \n",
    "print(q)"
   ]
  },
  {
   "cell_type": "code",
   "execution_count": 4,
   "metadata": {},
   "outputs": [
    {
     "output_type": "execute_result",
     "data": {
      "text/plain": [
       "WindowsPath('c:/Users/Shashank/Notes/Python basic')"
      ]
     },
     "metadata": {},
     "execution_count": 4
    }
   ],
   "source": [
    "\"A path explicitly created from it's string representation.\"\n",
    "pathlib.Path(r'c:\\Users\\Shashank\\Notes\\Python basic')"
   ]
  },
  {
   "cell_type": "code",
   "execution_count": 5,
   "metadata": {},
   "outputs": [
    {
     "output_type": "execute_result",
     "data": {
      "text/plain": [
       "WindowsPath('C:/Users/Shashank/Notes/Python basic')"
      ]
     },
     "metadata": {},
     "execution_count": 5
    }
   ],
   "source": [
    "\"Another way to create a path\"\n",
    "pathlib.Path.home() /'Notes'/'Python basic'"
   ]
  },
  {
   "cell_type": "code",
   "execution_count": 6,
   "metadata": {},
   "outputs": [
    {
     "output_type": "execute_result",
     "data": {
      "text/plain": [
       "WindowsPath('C:/Users/Shashank/Notes/Python basic')"
      ]
     },
     "metadata": {},
     "execution_count": 6
    }
   ],
   "source": [
    "\"One more way to create a path\"\n",
    "pathlib.Path.home().joinpath('Notes','Python basic')"
   ]
  },
  {
   "source": [
    "## Opening file with path module\n",
    "\n",
    "#### Normal way"
   ],
   "cell_type": "markdown",
   "metadata": {}
  },
  {
   "cell_type": "code",
   "execution_count": 17,
   "metadata": {},
   "outputs": [
    {
     "output_type": "stream",
     "name": "stdout",
     "text": [
      "['--> Purpost of a virtual environment to load packages which are specific of a certian project. Using virtual environment you need  python \\n', '    3.3 or higher. It comes with an standard library. \\n', '\\n', '--> Use ----\"pip list\"----- commands to check installed packages.Normally you will notice a long list of pakages which you have installed \\n']\n"
     ]
    }
   ],
   "source": [
    "path = pathlib.Path.cwd()/'Virtual_environment'/'Notes.txt'\n",
    "with open(path,'r') as venv:\n",
    "    v_read = venv.readlines(200)\n",
    "    print(v_read)"
   ]
  },
  {
   "source": [
    "Equivelant alternative of this read file task is in Pathobject."
   ],
   "cell_type": "markdown",
   "metadata": {}
  },
  {
   "cell_type": "code",
   "execution_count": 19,
   "metadata": {},
   "outputs": [
    {
     "output_type": "stream",
     "name": "stdout",
     "text": [
      "['--> Purpost of a virtual environment to load packages which are specific of a certian project. Using virtual environment you need  python \\n', '    3.3 or higher. It comes with an standard library. \\n', '\\n', '--> Use ----\"pip list\"----- commands to check installed packages.Normally you will notice a long list of pakages which you have installed \\n']\n"
     ]
    }
   ],
   "source": [
    "path = pathlib.Path.cwd()/'Virtual_environment'/'Notes.txt'\n",
    "with path.open(mode='r') as venv:\n",
    "    v_read = venv.readlines(200)\n",
    "    print(v_read)"
   ]
  },
  {
   "cell_type": "code",
   "execution_count": 28,
   "metadata": {},
   "outputs": [
    {
     "output_type": "execute_result",
     "data": {
      "text/plain": [
       "'certifi==2020.6.20\\nchardet==3.0.4\\nidna==2.10\\npytz==2020.4\\nrequests==2.24.0\\nurllib3==1.25.11\\n'"
      ]
     },
     "metadata": {},
     "execution_count": 28
    }
   ],
   "source": [
    "\"With this method we could direcly read the text\"\n",
    "path = pathlib.Path.cwd()/'Virtual_environment'/'requirements.txt'\n",
    "path.read_text()"
   ]
  },
  {
   "cell_type": "code",
   "execution_count": 31,
   "metadata": {},
   "outputs": [
    {
     "output_type": "execute_result",
     "data": {
      "text/plain": [
       "WindowsPath('C:/Users/Shashank/Notes/Python basic/Virtual_environment/requirements.txt')"
      ]
     },
     "metadata": {},
     "execution_count": 31
    }
   ],
   "source": [
    "\"resolve method will find the full path\"\n",
    "path.resolve()"
   ]
  },
  {
   "source": [
    "### Componets of path"
   ],
   "cell_type": "markdown",
   "metadata": {}
  },
  {
   "cell_type": "code",
   "execution_count": 50,
   "metadata": {},
   "outputs": [
    {
     "output_type": "stream",
     "name": "stdout",
     "text": [
      "path : c:\\Users\\Shashank\\Notes\\Python basic\\Virtual_environment\\requirements.txt\npath.name : requirements.txt\npath.stem : requirements\npath.suffix : .txt\npath.parent : c:\\Users\\Shashank\\Notes\\Python basic\\Virtual_environment\npath.parent.parent : c:\\Users\\Shashank\\Notes\\Python basic\npath.anchor : c:\\\npath.exists : <bound method Path.exists of WindowsPath('c:/Users/Shashank/Notes/Python basic/Virtual_environment/requirements.txt')>\npash.isdir(): False\n"
     ]
    }
   ],
   "source": [
    "print('path :',path)\n",
    "print('path.name :',path.name)\n",
    "print('path.stem :',path.stem)\n",
    "print('path.suffix :',path.suffix)\n",
    "print('path.parent :',path.parent)\n",
    "print('path.parent.parent :',path.parent.parent)\n",
    "print('path.anchor :',path.anchor)\n",
    "print('path.exists :',path.exists)\n",
    "print('pash.isdir():',path.is_dir())"
   ]
  },
  {
   "cell_type": "code",
   "execution_count": 59,
   "metadata": {},
   "outputs": [
    {
     "output_type": "execute_result",
     "data": {
      "text/plain": [
       "WindowsPath('c:/Users/Shashank/Notes/Python basic/text_file.py')"
      ]
     },
     "metadata": {},
     "execution_count": 59
    }
   ],
   "source": [
    "\"Renaming file\"\n",
    "import pathlib\n",
    "path_test = pathlib.Path.cwd()/'text_file.txt' \n",
    "path_test.replace(path_test.with_suffix('.py'))\n",
    "\n",
    "\n"
   ]
  },
  {
   "cell_type": "code",
   "execution_count": 64,
   "metadata": {},
   "outputs": [
    {
     "output_type": "stream",
     "name": "stdout",
     "text": [
      ".ipynb_checkpoints\n.vscode\nData Structures\nDate and time.ipynb\nException or error handling.ipynb\nItertools.ipynb\nLogging_Module.ipynb\nName.txt\nObject oriented programming.ipynb\nOpenpyxl.ipynb\nOS_module.ipynb\nPathlib_module.ipynb\nPIP.ipynb\nPython_packages.txt\nRandom .ipynb\nRecursion function .ipynb\nRound.ipynb\nString (Text,Number & Date) Formatting.ipynb\ntext_file.py\nThreading.ipynb\nThreading1.PNG\nUntitled1.ipynb\nVirtual_environment\n"
     ]
    },
    {
     "output_type": "execute_result",
     "data": {
      "text/plain": [
       "Counter({'': 4, '.ipynb': 15, '.txt': 2, '.py': 1, '.PNG': 1})"
      ]
     },
     "metadata": {},
     "execution_count": 64
    }
   ],
   "source": [
    "\"Counting files in current directory\"\n",
    "import collections\n",
    "for p in pathlib.Path.cwd().iterdir():\n",
    "    print(p.name)\n",
    "\n",
    "collections.Counter(p.suffix for p in pathlib.Path.cwd().iterdir())"
   ]
  },
  {
   "cell_type": "code",
   "execution_count": null,
   "metadata": {},
   "outputs": [],
   "source": []
  }
 ]
}