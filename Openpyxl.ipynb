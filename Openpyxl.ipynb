{
 "cells": [
  {
   "cell_type": "code",
   "execution_count": 85,
   "metadata": {},
   "outputs": [
    {
     "name": "stdout",
     "output_type": "stream",
     "text": [
      "<class 'openpyxl.workbook.workbook.Workbook'>\n"
     ]
    }
   ],
   "source": [
    "from openpyxl import cell \n",
    "\n",
    "b = r'C:\\Users\\Shashank\\Desktop\\Data Samples\\PSample data.xlsx'\n",
    "b\n",
    "\n",
    "wb = openpyxl.load_workbook(b)\n",
    "print(type(wb))\n"
   ]
  },
  {
   "cell_type": "code",
   "execution_count": 73,
   "metadata": {},
   "outputs": [
    {
     "data": {
      "text/plain": [
       "['Sales Record', 'New Record']"
      ]
     },
     "execution_count": 73,
     "metadata": {},
     "output_type": "execute_result"
    }
   ],
   "source": [
    "# Get the sheet names\n",
    "wb.sheetnames"
   ]
  },
  {
   "cell_type": "code",
   "execution_count": 75,
   "metadata": {},
   "outputs": [
    {
     "data": {
      "text/plain": [
       "'Country'"
      ]
     },
     "execution_count": 75,
     "metadata": {},
     "output_type": "execute_result"
    }
   ],
   "source": [
    "sheet.cell(row=1,column=2).value"
   ]
  },
  {
   "cell_type": "code",
   "execution_count": 76,
   "metadata": {},
   "outputs": [
    {
     "name": "stdout",
     "output_type": "stream",
     "text": [
      "(7, 'Federated States of Micronesia')\n",
      "(283, 'Saint Vincent and the Grenadines')\n",
      "(285, 'Saint Vincent and the Grenadines')\n",
      "(379, 'Democratic Republic of the Congo')\n"
     ]
    }
   ],
   "source": [
    "for i in range(1,500,2):\n",
    "    j = (i,sheet.cell(row=i,column=2).value)\n",
    "    if j[1] is None:\n",
    "        break\n",
    "    else:\n",
    "        if len(j[1])>25:\n",
    "            print(j)\n",
    " "
   ]
  },
  {
   "cell_type": "code",
   "execution_count": 77,
   "metadata": {},
   "outputs": [
    {
     "name": "stdout",
     "output_type": "stream",
     "text": [
      "387\n",
      "6\n"
     ]
    }
   ],
   "source": [
    "print(sheet.max_row)\n",
    "print(sheet.max_column)"
   ]
  },
  {
   "cell_type": "code",
   "execution_count": 86,
   "metadata": {},
   "outputs": [
    {
     "name": "stdout",
     "output_type": "stream",
     "text": [
      "<Cell 'Sales Record'.A1>\n",
      "Region\n",
      "Country\n"
     ]
    }
   ],
   "source": [
    "sheet = wb['Sales Record']\n",
    "print(sheet['A1'])\n",
    "print(sheet['A1'].value)\n",
    "print(sheet['B1'].value)\n"
   ]
  },
  {
   "cell_type": "code",
   "execution_count": 99,
   "metadata": {},
   "outputs": [
    {
     "data": {
      "text/plain": [
       "((<Cell 'Sales Record'.A1>,),\n",
       " (<Cell 'Sales Record'.A2>,),\n",
       " (<Cell 'Sales Record'.A3>,),\n",
       " (<Cell 'Sales Record'.A4>,),\n",
       " (<Cell 'Sales Record'.A5>,))"
      ]
     },
     "execution_count": 99,
     "metadata": {},
     "output_type": "execute_result"
    }
   ],
   "source": [
    "sheet['A1':'A5']"
   ]
  },
  {
   "cell_type": "code",
   "execution_count": 108,
   "metadata": {},
   "outputs": [
    {
     "name": "stdout",
     "output_type": "stream",
     "text": [
      "Region\n",
      "Country\n",
      "North America\n",
      "Canada\n",
      "Asia\n",
      "Japan\n",
      "Sub-Saharan Africa\n",
      "Eritrea\n",
      "Asia\n",
      "Maldives\n"
     ]
    }
   ],
   "source": [
    "for i in sheet['A1':'b5']:\n",
    "    for j in i:\n",
    "        print(j.value)"
   ]
  }
 ],
 "metadata": {
  "kernelspec": {
   "display_name": "Python 3",
   "language": "python",
   "name": "python3"
  },
  "language_info": {
   "codemirror_mode": {
    "name": "ipython",
    "version": 3
   },
   "file_extension": ".py",
   "mimetype": "text/x-python",
   "name": "python",
   "nbconvert_exporter": "python",
   "pygments_lexer": "ipython3",
   "version": "3.7.1"
  }
 },
 "nbformat": 4,
 "nbformat_minor": 2
}
