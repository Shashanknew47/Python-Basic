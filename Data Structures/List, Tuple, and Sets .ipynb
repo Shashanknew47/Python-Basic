{
 "cells": [
  {
   "cell_type": "markdown",
   "metadata": {},
   "source": [
    "# List:"
   ]
  },
  {
   "cell_type": "code",
   "execution_count": 18,
   "metadata": {},
   "outputs": [
    {
     "name": "stdout",
     "output_type": "stream",
     "text": [
      "s1 is {1, 2, 3, 4, 5}\n",
      "s2 is {3, 4, 5, 6, 7, 8}\n",
      "s2 is {6, 7, 8, 9, 10, 11}\n"
     ]
    }
   ],
   "source": [
    "#List is doneated by [] or list()\n",
    "Li = ['A', 'B', 'C', 'D']\n",
    "s1 = set(list(range(1,6)))\n",
    "s2 = set(list(range(3,9)))\n",
    "s3= set(list(range(6,12)))\n",
    "print(f's1 is {s1}')\n",
    "print(f's2 is {s2}')\n",
    "\n"
   ]
  },
  {
   "cell_type": "markdown",
   "metadata": {},
   "source": [
    "### Methods to add items in a list (append,insert,extend,+,zip)"
   ]
  },
  {
   "cell_type": "code",
   "execution_count": 10,
   "metadata": {},
   "outputs": [
    {
     "name": "stdout",
     "output_type": "stream",
     "text": [
      "['A', 'B', 'C', 'D']\n"
     ]
    }
   ],
   "source": [
    "# append : Adding an item in the end of the list\n",
    "C = ['A','B','C']\n",
    "C.append('D')\n",
    "print(C)"
   ]
  },
  {
   "cell_type": "code",
   "execution_count": 11,
   "metadata": {},
   "outputs": [
    {
     "name": "stdout",
     "output_type": "stream",
     "text": [
      "['A', 'B', 'D', 'C']\n"
     ]
    }
   ],
   "source": [
    "# insert : Adding an item in a place where you wish to:\n",
    "C = ['A','B','C']\n",
    "C.insert(2,'D')\n",
    "print(C)"
   ]
  },
  {
   "cell_type": "code",
   "execution_count": 22,
   "metadata": {},
   "outputs": [
    {
     "name": "stdout",
     "output_type": "stream",
     "text": [
      "+ result:['A', 'B', 'C', 1, 2, 3]\n",
      "extend result:['A', 'B', 'C', 1, 2, 3] \n",
      "with + multiple continate could happpen ['A', 'B', 'C', 1, 2, 3, 1, 2, 3, 9, 4, 7]\n"
     ]
    }
   ],
   "source": [
    "# extend : adding 2 list toghether. is same is (+). It is a concatinate of 2 or more lists.\n",
    "C = ['A','B','C']\n",
    "D = [1,2,3]\n",
    "E = [9,4,7]\n",
    "print(f'+ result:{C+D}')\n",
    "C.extend(D)\n",
    "print(f'extend result:{C} ')\n",
    "print(f'with + multiple continate could happpen {C+D+E}')\n"
   ]
  },
  {
   "cell_type": "code",
   "execution_count": 27,
   "metadata": {},
   "outputs": [
    {
     "name": "stdout",
     "output_type": "stream",
     "text": [
      "[('A', 1), ('B', 2), ('C', 3)]\n"
     ]
    }
   ],
   "source": [
    "#4) zip : Combining 2 lists in seperate values of tuple:\n",
    "C = ['A','B','C']\n",
    "D = [1,2,3]\n",
    "ziplist = zip(C,D)\n",
    "print(list(ziplist))\n"
   ]
  },
  {
   "cell_type": "markdown",
   "metadata": {},
   "source": [
    "### Changing a value in list"
   ]
  },
  {
   "cell_type": "code",
   "execution_count": 65,
   "metadata": {},
   "outputs": [
    {
     "data": {
      "text/plain": [
       "[1, 2, 9, 4, 5, 6, 4, 5]"
      ]
     },
     "execution_count": 65,
     "metadata": {},
     "output_type": "execute_result"
    }
   ],
   "source": [
    "Li = [1,2,3,4,5,6,4,5]\n",
    "Li[2] = 9 \n",
    "Li"
   ]
  },
  {
   "cell_type": "markdown",
   "metadata": {},
   "source": [
    "### Methods to remove items in lists(remove,pop,del)"
   ]
  },
  {
   "cell_type": "code",
   "execution_count": 28,
   "metadata": {},
   "outputs": [
    {
     "data": {
      "text/plain": [
       "[1, 2, 3]"
      ]
     },
     "execution_count": 28,
     "metadata": {},
     "output_type": "execute_result"
    }
   ],
   "source": [
    "#remove: remove a value form the list.\n",
    "C = [1,2,3,['A','B']]\n",
    "C.remove(['A','B'])\n",
    "C"
   ]
  },
  {
   "cell_type": "code",
   "execution_count": 30,
   "metadata": {},
   "outputs": [
    {
     "data": {
      "text/plain": [
       "'C'"
      ]
     },
     "execution_count": 30,
     "metadata": {},
     "output_type": "execute_result"
    }
   ],
   "source": [
    "#pop: to eleminate the last item form the list. and it will return last item.\n",
    "C = ['A','B','C']\n",
    "C.pop()"
   ]
  },
  {
   "cell_type": "code",
   "execution_count": 32,
   "metadata": {},
   "outputs": [
    {
     "data": {
      "text/plain": [
       "[1, 5, 6, 7]"
      ]
     },
     "execution_count": 32,
     "metadata": {},
     "output_type": "execute_result"
    }
   ],
   "source": [
    "#del: deleting one or multiple items form a list\n",
    "t = [1,2,3,4,5,6,7]\n",
    "del t[1:4]\n",
    "t"
   ]
  },
  {
   "cell_type": "markdown",
   "metadata": {},
   "source": [
    "### Converting strings to lists"
   ]
  },
  {
   "cell_type": "code",
   "execution_count": 46,
   "metadata": {},
   "outputs": [
    {
     "name": "stdout",
     "output_type": "stream",
     "text": [
      "['this', 'is', 'my', 'house']\n",
      "['this', 'is', 'my', 'house']\n",
      "['t', 'h', 'i', 's', ' ', 'i', 's', ' ', 'm', 'y', ' ', 'h', 'o', 'u', 's', 'e']\n"
     ]
    }
   ],
   "source": [
    "#split() by default space is devider and you want to change any plance in between ()\n",
    "string = 'this is my house'\n",
    "Y = Li.split()\n",
    "print(Y)\n",
    "\n",
    "string = 'this;is;my;house'\n",
    "Y = string.split(\";\")\n",
    "print(Y)\n",
    "\n",
    "string = 'this is my house'\n",
    "Y =  list(string)\n",
    "print(Y)\n"
   ]
  },
  {
   "cell_type": "markdown",
   "metadata": {},
   "source": [
    "### Converting lists into string - join method"
   ]
  },
  {
   "cell_type": "code",
   "execution_count": 9,
   "metadata": {},
   "outputs": [
    {
     "name": "stdout",
     "output_type": "stream",
     "text": [
      "A-B-C-D\n",
      "A B C D\n"
     ]
    }
   ],
   "source": [
    "Li = ['A', 'B', 'C', 'D']\n",
    "course_str = '-'.join(Li)\n",
    "print(course_str)\n",
    "\n",
    "spacejoin = \" \".join(Li)\n",
    "print(spacejoin)\n"
   ]
  },
  {
   "cell_type": "markdown",
   "metadata": {},
   "source": [
    "### Operators in list:(sum,len,max,min,in,not in,count,index)"
   ]
  },
  {
   "cell_type": "code",
   "execution_count": 55,
   "metadata": {},
   "outputs": [
    {
     "name": "stdout",
     "output_type": "stream",
     "text": [
      "sum of list: 18\n",
      "len of list: 5\n",
      "max of list: 6\n",
      "in operator in lis: True\n",
      "not in operator in lis: False\n"
     ]
    }
   ],
   "source": [
    "Li = [1,2,4,5,6]\n",
    "print(f'sum of list: {sum(Li)}')\n",
    "print(f'len of list: {len(Li)}')\n",
    "print(f'max of list: {max(Li)}')"
   ]
  },
  {
   "cell_type": "code",
   "execution_count": 59,
   "metadata": {},
   "outputs": [
    {
     "name": "stdout",
     "output_type": "stream",
     "text": [
      "True\n",
      "False\n"
     ]
    }
   ],
   "source": [
    "# Operators in list:(in,not in)\n",
    "Li = [1,2,4,5,6]\n",
    "print(2 in Li)\n",
    "print(2 not in Li)"
   ]
  },
  {
   "cell_type": "code",
   "execution_count": 6,
   "metadata": {},
   "outputs": [
    {
     "name": "stdout",
     "output_type": "stream",
     "text": [
      "1\n",
      "3\n",
      "None\n"
     ]
    }
   ],
   "source": [
    "#count operator in list:\n",
    "Li = [1,2,4,5,6,6,4,2,6,5,4,2]\n",
    "print(Li.index(2))\n",
    "print(Li.count(2))\n"
   ]
  },
  {
   "cell_type": "code",
   "execution_count": 66,
   "metadata": {},
   "outputs": [
    {
     "name": "stdout",
     "output_type": "stream",
     "text": [
      "Cat\n",
      "wolf\n"
     ]
    }
   ],
   "source": [
    "#Multiple assignmenst of a list:\n",
    "Animals = ['Cat','Dog','wolf']\n",
    "a,b,c = Animals\n",
    "print(a)\n",
    "print(c)"
   ]
  },
  {
   "cell_type": "markdown",
   "metadata": {},
   "source": [
    "### Sorting a list(Sort,sorted)"
   ]
  },
  {
   "cell_type": "code",
   "execution_count": 35,
   "metadata": {},
   "outputs": [
    {
     "data": {
      "text/plain": [
       "[1, 2, 3, 4, 4, 5, 6, 9]"
      ]
     },
     "execution_count": 35,
     "metadata": {},
     "output_type": "execute_result"
    }
   ],
   "source": [
    "#sorted function\n",
    "Li = [1,5,2,9,6,4,3,4]\n",
    "Nli = sorted(Li)\n",
    "Nli"
   ]
  },
  {
   "cell_type": "code",
   "execution_count": 37,
   "metadata": {},
   "outputs": [
    {
     "name": "stdout",
     "output_type": "stream",
     "text": [
      "[-9, -4, -3, -1, 2, 4, 24, 32, 54, 134]\n",
      "[-1, 2, -3, -4, 4, -9, 24, 32, 54, 134]\n",
      "[134, 54, 32, 24, -9, -4, 4, -3, 2, -1]\n"
     ]
    }
   ],
   "source": [
    "#sorting with key (abs,reverse,lambda) by default sort function: sort(key=False,reverse=False)\n",
    "#normal sorting\n",
    "Li = [-3,-9,-1,-4,4,32,24,54,2,134]\n",
    "Li.sort()\n",
    "print(Li)\n",
    "\n",
    "#sorting with abs key\n",
    "Li.sort(key=abs)\n",
    "print(Li)\n",
    "\n",
    "Li.sort(key=abs,reverse=True)\n",
    "print(Li)\n"
   ]
  },
  {
   "cell_type": "code",
   "execution_count": 31,
   "metadata": {},
   "outputs": [
    {
     "name": "stdout",
     "output_type": "stream",
     "text": [
      "['Shashank Jain', 'Rahul Malik', 'Reena Sharma']\n"
     ]
    }
   ],
   "source": [
    "Li = ['Shashank Jain','Reena Sharma','Rahul Malik']\n",
    "Y = sorted(Li,key=lambda x:x.split()[-1])\n",
    "print(Y)"
   ]
  },
  {
   "cell_type": "markdown",
   "metadata": {},
   "source": [
    "### Indexing and slicing of list: list[index]  -- Li[1]"
   ]
  },
  {
   "cell_type": "code",
   "execution_count": null,
   "metadata": {},
   "outputs": [],
   "source": []
  },
  {
   "cell_type": "markdown",
   "metadata": {},
   "source": [
    "# tuple"
   ]
  },
  {
   "cell_type": "code",
   "execution_count": null,
   "metadata": {},
   "outputs": [],
   "source": [
    "#tuples are immutable:\n",
    "\n",
    "#Benefits of using Tuple:\n",
    "#  -tuple uses less memory than lists\n",
    "#  -tuple takes less time to run a operation\n",
    "#  -If we want to keep some values remain same then we shoud use tuple."
   ]
  },
  {
   "cell_type": "markdown",
   "metadata": {},
   "source": [
    "### How to create tuple."
   ]
  },
  {
   "cell_type": "code",
   "execution_count": null,
   "metadata": {},
   "outputs": [],
   "source": []
  }
 ],
 "metadata": {
  "kernelspec": {
   "display_name": "Python 3",
   "language": "python",
   "name": "python3"
  },
  "language_info": {
   "codemirror_mode": {
    "name": "ipython",
    "version": 3
   },
   "file_extension": ".py",
   "mimetype": "text/x-python",
   "name": "python",
   "nbconvert_exporter": "python",
   "pygments_lexer": "ipython3",
   "version": "3.7.1"
  }
 },
 "nbformat": 4,
 "nbformat_minor": 2
}
